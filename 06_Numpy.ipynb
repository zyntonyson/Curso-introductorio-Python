{
  "nbformat": 4,
  "nbformat_minor": 0,
  "metadata": {
    "colab": {
      "name": "06.Numpy",
      "provenance": [],
      "include_colab_link": true
    },
    "kernelspec": {
      "name": "python3",
      "display_name": "Python 3"
    }
  },
  "cells": [
    {
      "cell_type": "markdown",
      "metadata": {
        "id": "view-in-github",
        "colab_type": "text"
      },
      "source": [
        "<a href=\"https://colab.research.google.com/github/zyntonyson/Curso-introductorio-Python/blob/master/06_Numpy.ipynb\" target=\"_parent\"><img src=\"https://colab.research.google.com/assets/colab-badge.svg\" alt=\"Open In Colab\"/></a>"
      ]
    },
    {
      "cell_type": "markdown",
      "metadata": {
        "id": "TGM_sNMrAiXK",
        "colab_type": "text"
      },
      "source": [
        "### The NumPy ndarray: A Multidimensional Array Object\n",
        "\n",
        "Basado de Python for Data Analysis Wes M Chap4\n",
        "\n",
        "\n",
        "One of the key features of NumPy is its N-dimensional array object, or ndarray,\n",
        "which is a fast, flexible container for large datasets in Python.Arrays enable you to\n",
        "perform mathematical operations on whole blocks of data using similar syntax to the\n",
        "equivalent operations between scalar elements.\n",
        "\n",
        "Numpy CheatSheet:  \n",
        "\n",
        "https://s3.amazonaws.com/assets.datacamp.com/blog_assets/Numpy_Python_Cheat_Sheet.pdf\n",
        "\n",
        "\n",
        "http://talimi.se/p/numpy/\n"
      ]
    },
    {
      "cell_type": "code",
      "metadata": {
        "id": "00zgvu1qp7Pd",
        "colab_type": "code",
        "colab": {}
      },
      "source": [
        "import numpy as np  # Forma convencional de exportar numpy"
      ],
      "execution_count": 0,
      "outputs": []
    },
    {
      "cell_type": "code",
      "metadata": {
        "id": "ZVq8TJA0nRaB",
        "colab_type": "code",
        "outputId": "43d2cbb3-8137-467a-f993-7c58e7d9ce3b",
        "colab": {
          "base_uri": "https://localhost:8080/",
          "height": 54
        }
      },
      "source": [
        "\n",
        "\n",
        "# Generamos un ndarry random\n",
        "data = np.random.randn(2, 3)\n",
        "data\n"
      ],
      "execution_count": 0,
      "outputs": [
        {
          "output_type": "execute_result",
          "data": {
            "text/plain": [
              "array([[0.81649868, 1.25249914, 0.9568823 ],\n",
              "       [0.32436898, 0.75040842, 1.36563997]])"
            ]
          },
          "metadata": {
            "tags": []
          },
          "execution_count": 2
        }
      ]
    },
    {
      "cell_type": "code",
      "metadata": {
        "id": "cOeLVhKD4Swo",
        "colab_type": "code",
        "colab": {}
      },
      "source": [
        "?? np.random.randn()"
      ],
      "execution_count": 0,
      "outputs": []
    },
    {
      "cell_type": "markdown",
      "metadata": {
        "id": "iPS03IA_GNsm",
        "colab_type": "text"
      },
      "source": [
        "An ndarray is a generic multidimensional container for homogeneous data; that is, all\n",
        "of the elements must be the same type ."
      ]
    },
    {
      "cell_type": "code",
      "metadata": {
        "id": "lAMkO3OYGMfX",
        "colab_type": "code",
        "outputId": "36309705-7da7-441c-a11c-97ae61136a7a",
        "colab": {
          "base_uri": "https://localhost:8080/",
          "height": 54
        }
      },
      "source": [
        "# Atributos de un ndarray\n",
        "print(data.shape)\n",
        "\n",
        "print(data.dtype)"
      ],
      "execution_count": 0,
      "outputs": [
        {
          "output_type": "stream",
          "text": [
            "(2, 3)\n",
            "float64\n"
          ],
          "name": "stdout"
        }
      ]
    },
    {
      "cell_type": "markdown",
      "metadata": {
        "id": "SC250yQEIZi9",
        "colab_type": "text"
      },
      "source": [
        "The easiest way to create an array is to use the array function. This accepts any\n",
        "sequence-like object (including other arrays) and produces a new NumPy array containing\n",
        "the passed data."
      ]
    },
    {
      "cell_type": "code",
      "metadata": {
        "id": "LhMZ92wQncYG",
        "colab_type": "code",
        "outputId": "fc984772-dd22-4f58-fbda-5e4b477726fb",
        "colab": {
          "base_uri": "https://localhost:8080/",
          "height": 90
        }
      },
      "source": [
        "# Array vector\n",
        "a=np.array([1,2,3])\n",
        "\n",
        "print('shape:{}'.format(a.shape))\n",
        "print(a, end='\\n\\n\\n')\n",
        "\n",
        "\n"
      ],
      "execution_count": 0,
      "outputs": [
        {
          "output_type": "stream",
          "text": [
            "shape:(3,)\n",
            "[1 2 3]\n",
            "\n",
            "\n"
          ],
          "name": "stdout"
        }
      ]
    },
    {
      "cell_type": "code",
      "metadata": {
        "id": "B1HDQd3N54E6",
        "colab_type": "code",
        "outputId": "56e07ea5-13f7-4928-f8f1-a3c75b596f72",
        "colab": {
          "base_uri": "https://localhost:8080/",
          "height": 108
        }
      },
      "source": [
        "#Array tipo matriz\n",
        "a2=np.array([(1,2,3),('a','b','c')])\n",
        "\n",
        "print('shape:{}'.format(a2.shape))\n",
        "print(a2,end='\\n\\n\\n')\n"
      ],
      "execution_count": 0,
      "outputs": [
        {
          "output_type": "stream",
          "text": [
            "shape:(2, 3)\n",
            "[['1' '2' '3']\n",
            " ['a' 'b' 'c']]\n",
            "\n",
            "\n"
          ],
          "name": "stdout"
        }
      ]
    },
    {
      "cell_type": "code",
      "metadata": {
        "id": "Ggn1DFYB57kK",
        "colab_type": "code",
        "outputId": "a3e872bf-6de6-490b-ba59-6f30754eb99b",
        "colab": {
          "base_uri": "https://localhost:8080/",
          "height": 90
        }
      },
      "source": [
        "# Array desde una lista\n",
        "lista=[i for i in range(15)]\n",
        "a3=np.array(lista)\n",
        "print('shape:{}'.format(a3.shape))\n",
        "print(a3,end='\\n\\n\\n')\n",
        "\n"
      ],
      "execution_count": 0,
      "outputs": [
        {
          "output_type": "stream",
          "text": [
            "shape:(15,)\n",
            "[ 0  1  2  3  4  5  6  7  8  9 10 11 12 13 14]\n",
            "\n",
            "\n"
          ],
          "name": "stdout"
        }
      ]
    },
    {
      "cell_type": "code",
      "metadata": {
        "id": "Ng4T8hEf6u_K",
        "colab_type": "code",
        "outputId": "b5830bd9-0938-45c0-a923-edf94ce3a41e",
        "colab": {
          "base_uri": "https://localhost:8080/",
          "height": 35
        }
      },
      "source": [
        "np.array([i for i in range(15)])"
      ],
      "execution_count": 0,
      "outputs": [
        {
          "output_type": "execute_result",
          "data": {
            "text/plain": [
              "array([ 0,  1,  2,  3,  4,  5,  6,  7,  8,  9, 10, 11, 12, 13, 14])"
            ]
          },
          "metadata": {
            "tags": []
          },
          "execution_count": 8
        }
      ]
    },
    {
      "cell_type": "code",
      "metadata": {
        "id": "uxcr_aUS59fi",
        "colab_type": "code",
        "outputId": "da6a0c05-2f23-4c6c-ed85-1a4dd2b2efe2",
        "colab": {
          "base_uri": "https://localhost:8080/",
          "height": 108
        }
      },
      "source": [
        "# Array lista de lista\n",
        "a4=np.array([lista,lista])\n",
        "print('shape:{}'.format(a4.shape))\n",
        "print(a4,end='\\n\\n\\n')\n",
        "\n"
      ],
      "execution_count": 0,
      "outputs": [
        {
          "output_type": "stream",
          "text": [
            "shape:(2, 15)\n",
            "[[ 0  1  2  3  4  5  6  7  8  9 10 11 12 13 14]\n",
            " [ 0  1  2  3  4  5  6  7  8  9 10 11 12 13 14]]\n",
            "\n",
            "\n"
          ],
          "name": "stdout"
        }
      ]
    },
    {
      "cell_type": "code",
      "metadata": {
        "id": "Q6UeemSq7H-b",
        "colab_type": "code",
        "outputId": "9011902e-5f6f-4a66-da71-db9ce4bc3bc1",
        "colab": {
          "base_uri": "https://localhost:8080/",
          "height": 171
        }
      },
      "source": [
        "# La materia prima de un np tiene que ser una estructura\n",
        "np.array(0,  1,  2,  3,  4,  5,  6,  7,  8,  9, 10, 11, 12, 13, 14)"
      ],
      "execution_count": 0,
      "outputs": [
        {
          "output_type": "error",
          "ename": "ValueError",
          "evalue": "ignored",
          "traceback": [
            "\u001b[0;31m---------------------------------------------------------------------------\u001b[0m",
            "\u001b[0;31mValueError\u001b[0m                                Traceback (most recent call last)",
            "\u001b[0;32m<ipython-input-10-6caeb1367b41>\u001b[0m in \u001b[0;36m<module>\u001b[0;34m()\u001b[0m\n\u001b[0;32m----> 1\u001b[0;31m \u001b[0mnp\u001b[0m\u001b[0;34m.\u001b[0m\u001b[0marray\u001b[0m\u001b[0;34m(\u001b[0m\u001b[0;36m0\u001b[0m\u001b[0;34m,\u001b[0m  \u001b[0;36m1\u001b[0m\u001b[0;34m,\u001b[0m  \u001b[0;36m2\u001b[0m\u001b[0;34m,\u001b[0m  \u001b[0;36m3\u001b[0m\u001b[0;34m,\u001b[0m  \u001b[0;36m4\u001b[0m\u001b[0;34m,\u001b[0m  \u001b[0;36m5\u001b[0m\u001b[0;34m,\u001b[0m  \u001b[0;36m6\u001b[0m\u001b[0;34m,\u001b[0m  \u001b[0;36m7\u001b[0m\u001b[0;34m,\u001b[0m  \u001b[0;36m8\u001b[0m\u001b[0;34m,\u001b[0m  \u001b[0;36m9\u001b[0m\u001b[0;34m,\u001b[0m \u001b[0;36m10\u001b[0m\u001b[0;34m,\u001b[0m \u001b[0;36m11\u001b[0m\u001b[0;34m,\u001b[0m \u001b[0;36m12\u001b[0m\u001b[0;34m,\u001b[0m \u001b[0;36m13\u001b[0m\u001b[0;34m,\u001b[0m \u001b[0;36m14\u001b[0m\u001b[0;34m)\u001b[0m\u001b[0;34m\u001b[0m\u001b[0;34m\u001b[0m\u001b[0m\n\u001b[0m",
            "\u001b[0;31mValueError\u001b[0m: only 2 non-keyword arguments accepted"
          ]
        }
      ]
    },
    {
      "cell_type": "code",
      "metadata": {
        "id": "ReRYYG_r5_Z6",
        "colab_type": "code",
        "colab": {}
      },
      "source": [
        "# Array dado un shape\n",
        "a5=np.array(lista).reshape(3,5)\n",
        "print('shape:{}'.format(a5.shape))\n",
        "print(a5,end='\\n\\n\\n')"
      ],
      "execution_count": 0,
      "outputs": []
    },
    {
      "cell_type": "markdown",
      "metadata": {
        "id": "dduKwE4_QBZn",
        "colab_type": "text"
      },
      "source": [
        "Otros tipos de Arrays"
      ]
    },
    {
      "cell_type": "code",
      "metadata": {
        "id": "aGrL151EQFJt",
        "colab_type": "code",
        "colab": {}
      },
      "source": [
        "misalto='\\n\\n\\n'\n",
        "\n",
        "## Array de ceros\n",
        "print(np.zeros(10), end=misalto)\n",
        "print(np.zeros(10).reshape(2,5), end=misalto)\n",
        "\n",
        "\n",
        "\n"
      ],
      "execution_count": 0,
      "outputs": []
    },
    {
      "cell_type": "code",
      "metadata": {
        "id": "MW-gtPZO8LlW",
        "colab_type": "code",
        "colab": {}
      },
      "source": [
        "## Array de unos\n",
        "\n",
        "print(np.ones(16), end=misalto)\n",
        "print(np.ones(16).reshape(4,2,2), end=misalto)\n",
        "\n"
      ],
      "execution_count": 0,
      "outputs": []
    },
    {
      "cell_type": "code",
      "metadata": {
        "id": "UuF6E2uM8Xtr",
        "colab_type": "code",
        "colab": {}
      },
      "source": [
        "## Array vacio\n",
        "\n",
        "print(np.empty(10), end=misalto)\n",
        "\n"
      ],
      "execution_count": 0,
      "outputs": []
    },
    {
      "cell_type": "code",
      "metadata": {
        "id": "6ty6JljE9MR8",
        "colab_type": "code",
        "colab": {}
      },
      "source": [
        "## Identidad\n",
        "\n",
        "print(np.identity(5),end=misalto)\n",
        "\n"
      ],
      "execution_count": 0,
      "outputs": []
    },
    {
      "cell_type": "code",
      "metadata": {
        "id": "051r7OWh9PrE",
        "colab_type": "code",
        "colab": {}
      },
      "source": [
        "## Rellenar un array\n",
        "\n",
        "np.full((2,2),3)\n",
        "\n",
        "\n"
      ],
      "execution_count": 0,
      "outputs": []
    },
    {
      "cell_type": "code",
      "metadata": {
        "id": "uEK6ozum9aNQ",
        "colab_type": "code",
        "colab": {}
      },
      "source": [
        "np.full(4,3).reshape(2,2)"
      ],
      "execution_count": 0,
      "outputs": []
    },
    {
      "cell_type": "code",
      "metadata": {
        "id": "JHoHlE4Rgy5m",
        "colab_type": "code",
        "colab": {}
      },
      "source": [
        "np.full(5,7)"
      ],
      "execution_count": 0,
      "outputs": []
    },
    {
      "cell_type": "code",
      "metadata": {
        "id": "cgpbj6ly9YNZ",
        "colab_type": "code",
        "colab": {}
      },
      "source": [
        "# Range\n",
        "\n",
        "print(np.arange(1,16).reshape(3,5))"
      ],
      "execution_count": 0,
      "outputs": []
    },
    {
      "cell_type": "markdown",
      "metadata": {
        "id": "8UF4RkePTeLJ",
        "colab_type": "text"
      },
      "source": [
        "### Arithmetic with NumPy Arrays"
      ]
    },
    {
      "cell_type": "code",
      "metadata": {
        "id": "6DK5NGELHm7P",
        "colab_type": "code",
        "colab": {}
      },
      "source": [
        "print(data+2)"
      ],
      "execution_count": 0,
      "outputs": []
    },
    {
      "cell_type": "code",
      "metadata": {
        "id": "2OBtD5TKHT3I",
        "colab_type": "code",
        "colab": {}
      },
      "source": [
        "print (data+data)"
      ],
      "execution_count": 0,
      "outputs": []
    },
    {
      "cell_type": "code",
      "metadata": {
        "id": "mFQw6fIZ_gro",
        "colab_type": "code",
        "colab": {}
      },
      "source": [
        "# Permite la suma a uno de un vector\n",
        "data1=np.arange(12).reshape(3,4)\n",
        "data2=np.arange(3).reshape(3,1)\n",
        "data1+data2"
      ],
      "execution_count": 0,
      "outputs": []
    },
    {
      "cell_type": "code",
      "metadata": {
        "id": "QauakSXq_tGV",
        "colab_type": "code",
        "colab": {}
      },
      "source": [
        "data1=np.arange(12).reshape(4,3)\n",
        "data2=np.arange(3).reshape(1,3)\n",
        "data1+data2"
      ],
      "execution_count": 0,
      "outputs": []
    },
    {
      "cell_type": "code",
      "metadata": {
        "id": "uZAlo10x_7oe",
        "colab_type": "code",
        "colab": {}
      },
      "source": [
        "print(data1.shape)\n",
        "print(data2.shape)"
      ],
      "execution_count": 0,
      "outputs": []
    },
    {
      "cell_type": "code",
      "metadata": {
        "id": "ldtwbMPL_Wdc",
        "colab_type": "code",
        "colab": {}
      },
      "source": [
        "# Mater\n",
        "data1=np.arange(12).reshape(3,4)\n",
        "data2=np.arange(9).reshape(3,3)\n",
        "data1+data2"
      ],
      "execution_count": 0,
      "outputs": []
    },
    {
      "cell_type": "code",
      "metadata": {
        "id": "wAM6Oa2v-0NM",
        "colab_type": "code",
        "colab": {}
      },
      "source": [
        "data1=np.arange(12).reshape(3,4)\n",
        "data2=np.arange(12).reshape(4,3)\n",
        "data1+data2"
      ],
      "execution_count": 0,
      "outputs": []
    },
    {
      "cell_type": "code",
      "metadata": {
        "id": "InttEDFWHomp",
        "colab_type": "code",
        "colab": {}
      },
      "source": [
        "print(10*data)"
      ],
      "execution_count": 0,
      "outputs": []
    },
    {
      "cell_type": "code",
      "metadata": {
        "id": "VGoYe-q_Tgbf",
        "colab_type": "code",
        "colab": {}
      },
      "source": [
        "print(data*data)"
      ],
      "execution_count": 0,
      "outputs": []
    },
    {
      "cell_type": "code",
      "metadata": {
        "id": "YBKpmNERTynG",
        "colab_type": "code",
        "colab": {}
      },
      "source": [
        "print(data-0.4*data)"
      ],
      "execution_count": 0,
      "outputs": []
    },
    {
      "cell_type": "code",
      "metadata": {
        "id": "Zes4yligT13W",
        "colab_type": "code",
        "colab": {}
      },
      "source": [
        "print(1/data)"
      ],
      "execution_count": 0,
      "outputs": []
    },
    {
      "cell_type": "code",
      "metadata": {
        "id": "1iKfTBN9T7IV",
        "colab_type": "code",
        "colab": {}
      },
      "source": [
        "print(data*data>data)"
      ],
      "execution_count": 0,
      "outputs": []
    },
    {
      "cell_type": "markdown",
      "metadata": {
        "id": "aS_-qq2wUSrg",
        "colab_type": "text"
      },
      "source": [
        "### Indexing and Slicing\n",
        "\n",
        "* Vectores"
      ]
    },
    {
      "cell_type": "code",
      "metadata": {
        "id": "F7iFK1Z2UT4t",
        "colab_type": "code",
        "colab": {}
      },
      "source": [
        "arr = np.arange(27)\n",
        "print(arr)\n"
      ],
      "execution_count": 0,
      "outputs": []
    },
    {
      "cell_type": "code",
      "metadata": {
        "id": "ae2y8Tv6WRBr",
        "colab_type": "code",
        "colab": {}
      },
      "source": [
        "def printt(exp, salto='\\n\\n'):\n",
        "  print(exp,end=salto)"
      ],
      "execution_count": 0,
      "outputs": []
    },
    {
      "cell_type": "code",
      "metadata": {
        "id": "Hdp05AbcVog2",
        "colab_type": "code",
        "colab": {}
      },
      "source": [
        "# Indexin\n",
        "\n",
        "printt(arr[5])\n",
        "  \n",
        "# Cambiar elemento\n",
        "\n",
        "arr[5]=14\n",
        "\n",
        "printt(arr[5])\n",
        "\n",
        "# Slicin\n",
        "printt(arr[3:7])\n",
        "printt(arr[3:])\n",
        "printt(arr[:8])\n",
        "  \n",
        "  \n",
        "  "
      ],
      "execution_count": 0,
      "outputs": []
    },
    {
      "cell_type": "markdown",
      "metadata": {
        "id": "PEg43IMhMWh1",
        "colab_type": "text"
      },
      "source": [
        "* Matrices"
      ]
    },
    {
      "cell_type": "code",
      "metadata": {
        "id": "RZpAyGw-MZLX",
        "colab_type": "code",
        "colab": {}
      },
      "source": [
        "arr=arr.reshape(3,9)\n",
        "print(arr)"
      ],
      "execution_count": 0,
      "outputs": []
    },
    {
      "cell_type": "markdown",
      "metadata": {
        "id": "TFcwx0ZcOqzC",
        "colab_type": "text"
      },
      "source": [
        "<img src=\"https://www.oreilly.com/library/view/python-for-data/9781449323592/httpatomoreillycomsourceoreillyimages2172114.png\" alt=\"drawing\" align=\"middle\" width=\"300\"/>"
      ]
    },
    {
      "cell_type": "code",
      "metadata": {
        "id": "xTjjq6UPM9jq",
        "colab_type": "code",
        "colab": {}
      },
      "source": [
        "# Indexin\n",
        "printt(arr[0,2])\n",
        "\n",
        "#Slicin\n",
        "\n",
        "printt(arr[:2,0])  # Desde- hasta NO se incluye el límite superior\n",
        "printt(arr[2,:])\n",
        "printt(arr[:1,0:])\n",
        "printt(arr[:2,:2])"
      ],
      "execution_count": 0,
      "outputs": []
    },
    {
      "cell_type": "markdown",
      "metadata": {
        "id": "8IP2HyXTXkA_",
        "colab_type": "text"
      },
      "source": [
        "#### Boolean indexin\n",
        "\n",
        "* Selecting data from an array by boolean indexing always creates a copy of the data,\n",
        "even if the returned array is unchanged.\n",
        "* The Python keywords and and or do not work with boolean arrays.\n",
        "Use & (and) and | (or) instead.\n"
      ]
    },
    {
      "cell_type": "code",
      "metadata": {
        "id": "AxaFjZysbMV4",
        "colab_type": "code",
        "colab": {}
      },
      "source": [
        "\n",
        "names = np.array(['Bob', 'Joe', 'Will', 'Bob', 'Will', 'Joe', 'Joe'])\n",
        "data = np.random.randn(7, 4)\n",
        "print(names)\n",
        "print(data)\n"
      ],
      "execution_count": 0,
      "outputs": []
    },
    {
      "cell_type": "code",
      "metadata": {
        "id": "G8VSMwD4CmSF",
        "colab_type": "code",
        "colab": {}
      },
      "source": [
        "names == 'Bob'"
      ],
      "execution_count": 0,
      "outputs": []
    },
    {
      "cell_type": "code",
      "metadata": {
        "id": "EASXwcX-ERUO",
        "colab_type": "code",
        "colab": {}
      },
      "source": [
        "~(names == 'Bob')"
      ],
      "execution_count": 0,
      "outputs": []
    },
    {
      "cell_type": "code",
      "metadata": {
        "id": "WBojPdU0CfJO",
        "colab_type": "code",
        "colab": {}
      },
      "source": [
        "data[names == 'Bob']"
      ],
      "execution_count": 0,
      "outputs": []
    },
    {
      "cell_type": "code",
      "metadata": {
        "id": "st82OSycEjma",
        "colab_type": "code",
        "colab": {}
      },
      "source": [
        "data[data>1]"
      ],
      "execution_count": 0,
      "outputs": []
    },
    {
      "cell_type": "code",
      "metadata": {
        "id": "ShuCD90FExmO",
        "colab_type": "code",
        "colab": {}
      },
      "source": [
        "data[:,0]>0"
      ],
      "execution_count": 0,
      "outputs": []
    },
    {
      "cell_type": "code",
      "metadata": {
        "id": "j6nfqyGrE9Oi",
        "colab_type": "code",
        "colab": {}
      },
      "source": [
        "data[data[:,0]>0]"
      ],
      "execution_count": 0,
      "outputs": []
    },
    {
      "cell_type": "code",
      "metadata": {
        "id": "4lwBtzoTnhmE",
        "colab_type": "code",
        "colab": {}
      },
      "source": [
        "data[names == 'Bob', 2:]"
      ],
      "execution_count": 0,
      "outputs": []
    },
    {
      "cell_type": "code",
      "metadata": {
        "id": "3fx_PuGhnigN",
        "colab_type": "code",
        "colab": {}
      },
      "source": [
        "# To select everything but 'Bob', you can either use != or negate the condition using ~:\n",
        "data[~(names == 'Bob')]"
      ],
      "execution_count": 0,
      "outputs": []
    },
    {
      "cell_type": "code",
      "metadata": {
        "id": "1G69tTGBn80K",
        "colab_type": "code",
        "colab": {}
      },
      "source": [
        "mask = (names == 'Bob') | (names == 'Will')\n",
        "data[mask]"
      ],
      "execution_count": 0,
      "outputs": []
    },
    {
      "cell_type": "code",
      "metadata": {
        "id": "19GEVZeio1Ru",
        "colab_type": "code",
        "colab": {}
      },
      "source": [
        "data[data < 0]"
      ],
      "execution_count": 0,
      "outputs": []
    },
    {
      "cell_type": "code",
      "metadata": {
        "id": "gtPNclTUpBNx",
        "colab_type": "code",
        "colab": {}
      },
      "source": [
        "#Setting values with boolean arrays works in a common-sense way. To set all of the negative values in data to 0 we need only do:\n",
        "printt(data)\n",
        "data[data < 0] = 0\n",
        "printt(data)"
      ],
      "execution_count": 0,
      "outputs": []
    },
    {
      "cell_type": "code",
      "metadata": {
        "id": "zFgUS9dvjwju",
        "colab_type": "code",
        "colab": {}
      },
      "source": [
        "# Fijando una semilla en Numpy\n",
        "\n",
        "print(np.random.normal(0,1,3))\n",
        "print(np.random.normal(0,1,3))\n",
        "print(np.random.normal(0,1,3))"
      ],
      "execution_count": 0,
      "outputs": []
    },
    {
      "cell_type": "markdown",
      "metadata": {
        "id": "r8-fA24qfPLu",
        "colab_type": "text"
      },
      "source": [
        "The data generation functions in numpy.random use a global random seed. To avoid\n",
        "global state, you can use numpy.random.RandomState to create a random number\n",
        "generator isolated from others:"
      ]
    },
    {
      "cell_type": "code",
      "metadata": {
        "id": "GHLAgegckKNi",
        "colab_type": "code",
        "colab": {}
      },
      "source": [
        "np.random.seed(1234)\n",
        "print(np.random.normal(0,1,3))\n",
        "np.random.seed(1234)\n",
        "print(np.random.normal(0,1,3))\n",
        "np.random.seed(1234)\n",
        "print(np.random.normal(0,1,3))\n"
      ],
      "execution_count": 0,
      "outputs": []
    },
    {
      "cell_type": "markdown",
      "metadata": {
        "id": "Rrci5opKr0BZ",
        "colab_type": "text"
      },
      "source": [
        "#### Fancy indexin"
      ]
    },
    {
      "cell_type": "code",
      "metadata": {
        "id": "eJ1XnuCto42M",
        "colab_type": "code",
        "colab": {}
      },
      "source": [
        "arr=np.arange(40).reshape(8,5)\n",
        "arr"
      ],
      "execution_count": 0,
      "outputs": []
    },
    {
      "cell_type": "code",
      "metadata": {
        "id": "Qcpshua_r-nK",
        "colab_type": "code",
        "colab": {}
      },
      "source": [
        "#Fancy indexing is a term adopted by NumPy to describe indexing using integer arrays\n",
        "\n",
        "printt(arr[[5,2,1]])\n",
        "\n",
        "printt(arr[[-5,-2,-1]])\n",
        "\n",
        "\n",
        "#Here the elements (1, 0), (5, 3), (7, 1), and (2, 2) were selected.\n",
        "printt(arr[[1, 5, 7, 2], [0, 3, 1, 2]])\n",
        "\n",
        "\n",
        "#which is the rectangular region formed by selecting a subset of the matrix’s rows and columns \n",
        "# Consiste en un doble select\n",
        "printt(arr[[1, 5, 7, 2]][:, [0, 3, 1, 2]])\n",
        "\n",
        "\n",
        "# Keep in mind that fancy indexing, unlike slicing, always copies the data into a new array\n"
      ],
      "execution_count": 0,
      "outputs": []
    },
    {
      "cell_type": "markdown",
      "metadata": {
        "id": "U5ZUL8Hnu29Z",
        "colab_type": "text"
      },
      "source": [
        "#### Transposing Arrays"
      ]
    },
    {
      "cell_type": "code",
      "metadata": {
        "id": "Lry14E8Wr_aD",
        "colab_type": "code",
        "colab": {}
      },
      "source": [
        "arr = np.arange(15).reshape((3, 5))\n",
        "printt(arr)\n",
        "printt(arr.T)"
      ],
      "execution_count": 0,
      "outputs": []
    },
    {
      "cell_type": "markdown",
      "metadata": {
        "id": "sPnd2JwSv-6H",
        "colab_type": "text"
      },
      "source": [
        "### Universal Functions: Fast Element-Wise Array Functions\n",
        "\n",
        "A universal function, or ufunc, is a function that performs element-wise operations\n",
        "on data in ndarrays. You can think of them as fast vectorized wrappers for simple\n",
        "functions that take one or more scalar values and produce one or more scalar results.\n"
      ]
    },
    {
      "cell_type": "code",
      "metadata": {
        "id": "kZ3eFnmNwFFQ",
        "colab_type": "code",
        "colab": {}
      },
      "source": [
        "arr = np.arange(10)\n",
        "arr"
      ],
      "execution_count": 0,
      "outputs": []
    },
    {
      "cell_type": "code",
      "metadata": {
        "id": "v51o3ROjwI3a",
        "colab_type": "code",
        "colab": {}
      },
      "source": [
        "# Raiz cuadrada por entrada\n",
        "printt(np.sqrt(arr))\n",
        "\n",
        "# Exponencial por entrada\n",
        "\n",
        "printt(np.exp(arr).round())"
      ],
      "execution_count": 0,
      "outputs": []
    },
    {
      "cell_type": "markdown",
      "metadata": {
        "id": "BrsHhT2HxdJH",
        "colab_type": "text"
      },
      "source": [
        "<img src=\"https://img2018.cnblogs.com/blog/1575244/201901/1575244-20190104110528794-772383246.png\" alt=\"drawing\" align=\"middle\" width=\"500\"/>\n"
      ]
    },
    {
      "cell_type": "markdown",
      "metadata": {
        "id": "tySJTy7gyNbx",
        "colab_type": "text"
      },
      "source": [
        "<img src=\"https://img2018.cnblogs.com/blog/1575244/201901/1575244-20190104110534666-1972622806.png\" alt=\"drawing\" align=\"middle\" width=\"500\"/>\n",
        "\n"
      ]
    },
    {
      "cell_type": "markdown",
      "metadata": {
        "id": "fzAwZrFD0Sgd",
        "colab_type": "text"
      },
      "source": [
        "#### Mathematical and Statistical Methods"
      ]
    },
    {
      "cell_type": "code",
      "metadata": {
        "id": "o_tNpvmxwRvH",
        "colab_type": "code",
        "colab": {}
      },
      "source": [
        "arr = np.random.randn(5, 4)\n",
        "arr"
      ],
      "execution_count": 0,
      "outputs": []
    },
    {
      "cell_type": "code",
      "metadata": {
        "id": "dkjEATG00Y__",
        "colab_type": "code",
        "colab": {}
      },
      "source": [
        "# Media global\n",
        "printt(arr.mean())\n",
        "printt(np.mean(arr))"
      ],
      "execution_count": 0,
      "outputs": []
    },
    {
      "cell_type": "code",
      "metadata": {
        "id": "ZXLkVvb71sa0",
        "colab_type": "code",
        "colab": {}
      },
      "source": [
        "# Media por axis\n",
        "printt(arr.mean(axis=0)) # por renglón\n",
        "printt(arr.mean(axis=1)) #por columnas"
      ],
      "execution_count": 0,
      "outputs": []
    },
    {
      "cell_type": "code",
      "metadata": {
        "id": "ixjit9YN1xi6",
        "colab_type": "code",
        "colab": {}
      },
      "source": [
        "# Suma\n",
        "printt(arr.sum())\n",
        "\n",
        "printt(arr.sum(axis=0))\n",
        "\n",
        "printt(arr.sum(axis=1))"
      ],
      "execution_count": 0,
      "outputs": []
    },
    {
      "cell_type": "markdown",
      "metadata": {
        "id": "y07GyQOR3kLq",
        "colab_type": "text"
      },
      "source": [
        "#### Sort, Unique and other set logic"
      ]
    },
    {
      "cell_type": "code",
      "metadata": {
        "id": "HULeZXFJ3puP",
        "colab_type": "code",
        "colab": {}
      },
      "source": [
        "# Ordenar\n",
        "arr=np.random.randn(6)\n",
        "printt(arr)\n",
        "arr.sort()  # La función actúa sobre  los datos originales\n",
        "printt(arr)"
      ],
      "execution_count": 0,
      "outputs": []
    },
    {
      "cell_type": "code",
      "metadata": {
        "id": "oLmYTzwD31oh",
        "colab_type": "code",
        "colab": {}
      },
      "source": [
        "#You can sort each one-dimensional section of values in a multidimensional array inplace \n",
        "#along an axis by passing the axis number to sort:\n",
        "\n",
        "arr=np.random.randint(1,56,25).reshape(5,5)\n",
        "printt(arr)\n",
        "arr.sort(1) # ordenar por renglon\n",
        "printt(arr)\n",
        "arr.sort(0) ## ordenar por columna\n",
        "printt(arr)"
      ],
      "execution_count": 0,
      "outputs": []
    },
    {
      "cell_type": "code",
      "metadata": {
        "id": "eHQWf3sQ41YA",
        "colab_type": "code",
        "colab": {}
      },
      "source": [
        "# Valores únicos\n",
        "names = np.array(['Bob', 'Joe', 'Will', 'Bob', 'Will', 'Joe', 'Joe'])\n",
        "np.unique(names)"
      ],
      "execution_count": 0,
      "outputs": []
    },
    {
      "cell_type": "markdown",
      "metadata": {
        "id": "QbE5zklo5x05",
        "colab_type": "text"
      },
      "source": [
        "### Álgebra lineal "
      ]
    },
    {
      "cell_type": "code",
      "metadata": {
        "id": "HQVXW0Gf50Ze",
        "colab_type": "code",
        "colab": {}
      },
      "source": [
        "x = np.array([[1., 2., 3.], [4., 5., 6.]])\n",
        "y = np.array([[6., 23.], [-1, 7], [8, 9]])"
      ],
      "execution_count": 0,
      "outputs": []
    },
    {
      "cell_type": "code",
      "metadata": {
        "id": "DA_Bhsjf592G",
        "colab_type": "code",
        "outputId": "744d6254-438a-44fb-9d34-2db4cbb09256",
        "colab": {
          "base_uri": "https://localhost:8080/",
          "height": 54
        }
      },
      "source": [
        "# Producto matricial variaciones\n",
        "print(x.dot(y))\n"
      ],
      "execution_count": 0,
      "outputs": [
        {
          "output_type": "stream",
          "text": [
            "[[ 28.  64.]\n",
            " [ 67. 181.]]\n"
          ],
          "name": "stdout"
        }
      ]
    },
    {
      "cell_type": "code",
      "metadata": {
        "id": "__dqQryoA06L",
        "colab_type": "code",
        "outputId": "37e4fb92-82de-40f7-9dc1-51cee2617da7",
        "colab": {
          "base_uri": "https://localhost:8080/",
          "height": 54
        }
      },
      "source": [
        "\n",
        "print(np.dot(x,y))\n",
        "\n"
      ],
      "execution_count": 0,
      "outputs": [
        {
          "output_type": "stream",
          "text": [
            "[[ 28.  64.]\n",
            " [ 67. 181.]]\n"
          ],
          "name": "stdout"
        }
      ]
    },
    {
      "cell_type": "code",
      "metadata": {
        "id": "BpwoFHkGBBLw",
        "colab_type": "code",
        "outputId": "0b6bbc2f-44e9-4efd-a4e7-b40ef10440aa",
        "colab": {
          "base_uri": "https://localhost:8080/",
          "height": 54
        }
      },
      "source": [
        "print(x@y) "
      ],
      "execution_count": 0,
      "outputs": [
        {
          "output_type": "stream",
          "text": [
            "[[ 28.  64.]\n",
            " [ 67. 181.]]\n"
          ],
          "name": "stdout"
        }
      ]
    },
    {
      "cell_type": "code",
      "metadata": {
        "id": "IxtwWNNU6omH",
        "colab_type": "code",
        "colab": {}
      },
      "source": [
        "#numpy.linalg has a standard set of matrix decompositions and things like inverse\n",
        "#and determinant.\n",
        "\n",
        "from numpy.linalg import inv\n",
        "\n",
        "\n"
      ],
      "execution_count": 0,
      "outputs": []
    },
    {
      "cell_type": "code",
      "metadata": {
        "id": "P3aKu3Nr6yCd",
        "colab_type": "code",
        "colab": {}
      },
      "source": [
        "# Inversa\n",
        "X = np.random.randn(5, 5)\n",
        "mat = X.T.dot(X)\n",
        "inv(mat)"
      ],
      "execution_count": 0,
      "outputs": []
    },
    {
      "cell_type": "code",
      "metadata": {
        "id": "Jm44orLO68jQ",
        "colab_type": "code",
        "colab": {}
      },
      "source": [
        "mat@inv(mat)"
      ],
      "execution_count": 0,
      "outputs": []
    },
    {
      "cell_type": "markdown",
      "metadata": {
        "id": "AuLe7PAD7oAE",
        "colab_type": "text"
      },
      "source": [
        "<img src=\"http://talimi.se/wp-content/uploads/2018/01/Ska%CC%88rmavbild-2018-01-02-kl.-04.29.04.png\" alt=\"drawing\" align=\"middle\" width=\"300\"/>\n",
        "<img src=\"http://talimi.se/wp-content/uploads/2018/01/Ska%CC%88rmavbild-2018-01-02-kl.-04.29.57.png\" alt=\"drawing\" align=\"middle\" width=\"300\"/>"
      ]
    },
    {
      "cell_type": "markdown",
      "metadata": {
        "id": "6PfiDE0kQXmE",
        "colab_type": "text"
      },
      "source": [
        "## Referencias"
      ]
    },
    {
      "cell_type": "markdown",
      "metadata": {
        "id": "jSCHC3JgQcFS",
        "colab_type": "text"
      },
      "source": [
        "* 100 ejercicios con Numpy\n",
        "\n",
        "  https://github.com/rougier/numpy-100"
      ]
    }
  ]
}