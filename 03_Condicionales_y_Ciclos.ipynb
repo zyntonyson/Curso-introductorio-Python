{
  "nbformat": 4,
  "nbformat_minor": 0,
  "metadata": {
    "colab": {
      "name": "03. Condicionales y Ciclos",
      "provenance": [],
      "include_colab_link": true
    },
    "kernelspec": {
      "name": "python3",
      "display_name": "Python 3"
    }
  },
  "cells": [
    {
      "cell_type": "markdown",
      "metadata": {
        "id": "view-in-github",
        "colab_type": "text"
      },
      "source": [
        "<a href=\"https://colab.research.google.com/github/zyntonyson/Curso-introductorio-Python/blob/master/03_Condicionales_y_Ciclos.ipynb\" target=\"_parent\"><img src=\"https://colab.research.google.com/assets/colab-badge.svg\" alt=\"Open In Colab\"/></a>"
      ]
    },
    {
      "cell_type": "markdown",
      "metadata": {
        "id": "ZCgT7h8S7b4Y",
        "colab_type": "text"
      },
      "source": [
        " Condicionar permite dividir el flujo de un programa en diferentes caminos."
      ]
    },
    {
      "cell_type": "markdown",
      "metadata": {
        "id": "2DHC7VVM7iQs",
        "colab_type": "text"
      },
      "source": [
        "## Condicionales"
      ]
    },
    {
      "cell_type": "markdown",
      "metadata": {
        "id": "0rJJUe9u-NFj",
        "colab_type": "text"
      },
      "source": [
        "### Sentencia *if*"
      ]
    },
    {
      "cell_type": "markdown",
      "metadata": {
        "id": "A6IMgh8y7kij",
        "colab_type": "text"
      },
      "source": [
        "El if se ejecuta siempre que la expresión que comprueba devuelva True:"
      ]
    },
    {
      "cell_type": "code",
      "metadata": {
        "id": "XwttGY517Veg",
        "colab_type": "code",
        "outputId": "fc1b1062-2bdc-44f0-eecc-5066beeb9d7a",
        "colab": {
          "base_uri": "https://localhost:8080/",
          "height": 52
        }
      },
      "source": [
        "if True:  # equivale a if not False\n",
        "    print(\"Se cumple la condición\")\n",
        "    print(\"También se muestre este print\")\n"
      ],
      "execution_count": 0,
      "outputs": [
        {
          "output_type": "stream",
          "text": [
            "Se cumple la condición\n",
            "También se muestre este print\n"
          ],
          "name": "stdout"
        }
      ]
    },
    {
      "cell_type": "code",
      "metadata": {
        "id": "2UawulIgaulY",
        "colab_type": "code",
        "outputId": "ec5c4efd-ccc5-4e50-a189-bcbc5a9704c0",
        "colab": {
          "base_uri": "https://localhost:8080/",
          "height": 131
        }
      },
      "source": [
        "if False:  # equivale a if not False\n",
        "print(\"Se cumple la condición\")\n",
        "print(\"También se muestre este print\")"
      ],
      "execution_count": 0,
      "outputs": [
        {
          "output_type": "error",
          "ename": "IndentationError",
          "evalue": "ignored",
          "traceback": [
            "\u001b[0;36m  File \u001b[0;32m\"<ipython-input-3-4197f7835812>\"\u001b[0;36m, line \u001b[0;32m2\u001b[0m\n\u001b[0;31m    print(\"Se cumple la condición\")\u001b[0m\n\u001b[0m        ^\u001b[0m\n\u001b[0;31mIndentationError\u001b[0m\u001b[0;31m:\u001b[0m expected an indented block\n"
          ]
        }
      ]
    },
    {
      "cell_type": "code",
      "metadata": {
        "id": "aaLKPDi0bPgj",
        "colab_type": "code",
        "outputId": "8201c1da-762f-4709-c556-d25a17df4e4a",
        "colab": {
          "base_uri": "https://localhost:8080/",
          "height": 35
        }
      },
      "source": [
        "if False:\n",
        "  print('a')\n",
        "print('b')"
      ],
      "execution_count": 0,
      "outputs": [
        {
          "output_type": "stream",
          "text": [
            "b\n"
          ],
          "name": "stdout"
        }
      ]
    },
    {
      "cell_type": "code",
      "metadata": {
        "id": "1VYoOLYY7smJ",
        "colab_type": "code",
        "outputId": "36c9c39c-6240-4995-bdd4-a1a57f03a413",
        "colab": {
          "base_uri": "https://localhost:8080/",
          "height": 35
        }
      },
      "source": [
        "# Encadenar varios if\n",
        "\n",
        "a = 5\n",
        "if a == 2:\n",
        "    print(\"a vale 2\")\n",
        "if a == 5:\n",
        "    print(\"a vale 5\")"
      ],
      "execution_count": 0,
      "outputs": [
        {
          "output_type": "stream",
          "text": [
            "a vale 5\n"
          ],
          "name": "stdout"
        }
      ]
    },
    {
      "cell_type": "code",
      "metadata": {
        "id": "SuLmMU4Y8Cnj",
        "colab_type": "code",
        "outputId": "7ddaba84-ebda-45c9-d4c4-b052b6d1edb6",
        "colab": {
          "base_uri": "https://localhost:8080/",
          "height": 35
        }
      },
      "source": [
        "#Anidar if\n",
        "a = 5\n",
        "b = 10\n",
        "if a == 5:\n",
        "    print(\"a vale\",a, end='  ')\n",
        "    if b == 10:\n",
        "        print(\"y b vale\",b)"
      ],
      "execution_count": 0,
      "outputs": [
        {
          "output_type": "stream",
          "text": [
            "a vale 5  y b vale 10\n"
          ],
          "name": "stdout"
        }
      ]
    },
    {
      "cell_type": "markdown",
      "metadata": {
        "id": "8xfW_mzS-TUe",
        "colab_type": "text"
      },
      "source": [
        "### Sentencia *else*"
      ]
    },
    {
      "cell_type": "markdown",
      "metadata": {
        "id": "zLRtPs7l8i0t",
        "colab_type": "text"
      },
      "source": [
        "En ocasiones el *if* tiene una instrucción  que debe ejecutarse cuando no se cumpla la condición. Se usa la sentencia **else( )** para encadenar las instrucciones "
      ]
    },
    {
      "cell_type": "code",
      "metadata": {
        "id": "rwuE_Xq29A7f",
        "colab_type": "code",
        "outputId": "7b1f4d05-c9eb-4d39-e21c-ec98fa7a4d68",
        "colab": {
          "base_uri": "https://localhost:8080/",
          "height": 35
        }
      },
      "source": [
        "n = 11\n",
        "if n % 2 == 0:\n",
        "    print(n,\"es un número par\")\n",
        "else:\n",
        "    print(n,\"es un número impar\")"
      ],
      "execution_count": 0,
      "outputs": [
        {
          "output_type": "stream",
          "text": [
            "11 es un número impar\n"
          ],
          "name": "stdout"
        }
      ]
    },
    {
      "cell_type": "markdown",
      "metadata": {
        "id": "U13sDcIo-XzD",
        "colab_type": "text"
      },
      "source": [
        "### Sentencia *elif*"
      ]
    },
    {
      "cell_type": "markdown",
      "metadata": {
        "id": "kwgxqlIf9Nrt",
        "colab_type": "text"
      },
      "source": [
        "La sentencia **elif** es útil al evaluar múltiples condiciones"
      ]
    },
    {
      "cell_type": "code",
      "metadata": {
        "id": "HCSW0wOo9UbI",
        "colab_type": "code",
        "outputId": "40ab43f1-e73a-4463-fc84-5563e7082eb7",
        "colab": {
          "base_uri": "https://localhost:8080/",
          "height": 35
        }
      },
      "source": [
        "comando = \"SALUDAR\"\n",
        "\n",
        "if comando == \"ENTRAR\":\n",
        "    print(\"Bienvenido al sistema\")\n",
        "elif comando == \"SALUDAR\":\n",
        "    print(\"Hola, espero que te lo estés pasando bien aprendiendo Python\")\n",
        "elif comando == \"SALIR\":\n",
        "    print(\"Saliendo del sistema...\")\n",
        "else:\n",
        "    print(\"Este comando no se reconoce\")"
      ],
      "execution_count": 0,
      "outputs": [
        {
          "output_type": "stream",
          "text": [
            "Hola, espero que te lo estés pasando bien aprendiendo Python\n"
          ],
          "name": "stdout"
        }
      ]
    },
    {
      "cell_type": "code",
      "metadata": {
        "id": "plOfsKQx9XxO",
        "colab_type": "code",
        "outputId": "718c932f-eb52-4939-e9cf-2554fbd66327",
        "colab": {
          "base_uri": "https://localhost:8080/",
          "height": 52
        }
      },
      "source": [
        "nota = float(input(\"Introduce una calificación entre 0 y 10: \"))\n",
        "\n",
        "if nota >= 9:\n",
        "    print(\"Sobresaliente\")\n",
        "elif nota >= 7:\n",
        "    print(\"Notable\")\n",
        "elif nota >= 6:\n",
        "    print(\"Bien\")\n",
        "elif nota >= 5:\n",
        "    print(\"Suficiente\")\n",
        "else:\n",
        "    print(\"Insuficiente\")"
      ],
      "execution_count": 0,
      "outputs": [
        {
          "output_type": "stream",
          "text": [
            "Introduce una calificación entre 0 y 10: -7\n",
            "Insuficiente\n"
          ],
          "name": "stdout"
        }
      ]
    },
    {
      "cell_type": "markdown",
      "metadata": {
        "id": "kQ1I-uow-ll_",
        "colab_type": "text"
      },
      "source": [
        "## Ciclos\n"
      ]
    },
    {
      "cell_type": "markdown",
      "metadata": {
        "id": "tqY5vsCR-oSj",
        "colab_type": "text"
      },
      "source": [
        "### Ciclo *for*"
      ]
    },
    {
      "cell_type": "markdown",
      "metadata": {
        "id": "e0Pws1Rr-sNc",
        "colab_type": "text"
      },
      "source": [
        "En general, un bucle es una estructura de control que repite un bloque de instrucciones. Un bucle for es un bucle que repite el bloque de instrucciones un número prederminado de veces. El bloque de instrucciones que se repite se suele llamar cuerpo del bucle y cada repetición se suele llamar iteración.\n",
        "\n",
        "La sintaxis de un bucle for es la siguiente:\n",
        "\n",
        "\n",
        "\n",
        "for variable in elemento iterable (lista, cadena, range, etc.):\n",
        "\n",
        "    cuerpo del bucle\n",
        "\n",
        "\n",
        "No es necesario definir la variable de control antes del bucle, aunque se puede utilizar como variable de control una variable ya definida en el programa.El cuerpo del bucle se ejecuta tantas veces como elementos tenga el elemento recorrible (elementos de una lista o de un range(), caracteres de una cadena, etc.)."
      ]
    },
    {
      "cell_type": "code",
      "metadata": {
        "id": "Rg-DZzoQ-j4Z",
        "colab_type": "code",
        "outputId": "6f7e7bdd-440e-4325-d8d0-0274bea3fa12",
        "colab": {
          "base_uri": "https://localhost:8080/",
          "height": 69
        }
      },
      "source": [
        "## ciclo  for 1\n",
        "\n",
        "print(\"Comienzo\")\n",
        "for i in [0, 1, 2]:\n",
        "    print(\"Hola \", end=\"\\t\")\n",
        "print(\"\\nFinal\")"
      ],
      "execution_count": 0,
      "outputs": [
        {
          "output_type": "stream",
          "text": [
            "Comienzo\n",
            "Hola \tHola \tHola \t\n",
            "Final\n"
          ],
          "name": "stdout"
        }
      ]
    },
    {
      "cell_type": "code",
      "metadata": {
        "id": "PWqRQrEzfm-R",
        "colab_type": "code",
        "outputId": "f2a1b330-bda9-4580-b6db-4ca8e3204ee3",
        "colab": {
          "base_uri": "https://localhost:8080/",
          "height": 35
        }
      },
      "source": [
        "range(7)\n",
        "range(2,10)"
      ],
      "execution_count": 0,
      "outputs": [
        {
          "output_type": "execute_result",
          "data": {
            "text/plain": [
              "range(2, 10)"
            ]
          },
          "metadata": {
            "tags": []
          },
          "execution_count": 24
        }
      ]
    },
    {
      "cell_type": "code",
      "metadata": {
        "id": "B4bkcv_jHDh6",
        "colab_type": "code",
        "colab": {}
      },
      "source": [
        "# ciclo for 2 iterar sobre posiciones\n",
        "\n",
        "pares=[2,4,6,8,10,12,14,16,18]\n",
        "\n",
        "\n",
        "for i in range(len(pares)):\n",
        "  print('la posición {} está ocupada por {}'.format(i, pares[i]) )\n",
        " \n",
        "\n"
      ],
      "execution_count": 0,
      "outputs": []
    },
    {
      "cell_type": "code",
      "metadata": {
        "id": "eIZFWatQH2Um",
        "colab_type": "code",
        "colab": {}
      },
      "source": [
        "# ciclo por elementos\n",
        "i=0\n",
        "\n",
        "for par in pares:\n",
        "  print('la posición {} está ocupada por {}'.format(i, par))\n",
        "  i+=1"
      ],
      "execution_count": 0,
      "outputs": []
    },
    {
      "cell_type": "code",
      "metadata": {
        "id": "XJBihnfWhLox",
        "colab_type": "code",
        "outputId": "3a86ac66-121c-4a9a-ec5f-7dec2da22cbf",
        "colab": {
          "base_uri": "https://localhost:8080/",
          "height": 35
        }
      },
      "source": [
        "enumerate(pares)"
      ],
      "execution_count": 0,
      "outputs": [
        {
          "output_type": "execute_result",
          "data": {
            "text/plain": [
              "<enumerate at 0x7fc92db07ee8>"
            ]
          },
          "metadata": {
            "tags": []
          },
          "execution_count": 26
        }
      ]
    },
    {
      "cell_type": "code",
      "metadata": {
        "id": "tET7bZncOKJG",
        "colab_type": "code",
        "outputId": "1bd92108-0be5-4def-8ef0-b6ce4e8b3cf2",
        "colab": {
          "base_uri": "https://localhost:8080/",
          "height": 170
        }
      },
      "source": [
        "for posicion,par in enumerate(pares):\n",
        "  print('la posición {} está ocupada por {}'.format(posicion, par))"
      ],
      "execution_count": 0,
      "outputs": [
        {
          "output_type": "stream",
          "text": [
            "la posición 0 está ocupada por 2\n",
            "la posición 1 está ocupada por 4\n",
            "la posición 2 está ocupada por 6\n",
            "la posición 3 está ocupada por 8\n",
            "la posición 4 está ocupada por 10\n",
            "la posición 5 está ocupada por 12\n",
            "la posición 6 está ocupada por 14\n",
            "la posición 7 está ocupada por 16\n",
            "la posición 8 está ocupada por 18\n"
          ],
          "name": "stdout"
        }
      ]
    },
    {
      "cell_type": "code",
      "metadata": {
        "id": "HwsR9-I9ImDR",
        "colab_type": "code",
        "outputId": "380b102f-f898-41e4-af1c-9eddc413d824",
        "colab": {
          "base_uri": "https://localhost:8080/",
          "height": 306
        }
      },
      "source": [
        "# ciclo for anidado\n",
        "\n",
        "pares=[2,4,6,8,10,12,14,16,18]\n",
        "impares=[1,3,5,7,9,11,13,15,17]\n",
        "salto=1\n",
        "\n",
        "for par in pares:\n",
        "  for impar in impares:\n",
        "    print(par*impar, end=' ')\n",
        "    if salto%5==0:\n",
        "      print()\n",
        "    salto+=1"
      ],
      "execution_count": 0,
      "outputs": [
        {
          "output_type": "stream",
          "text": [
            "2 6 10 14 18 \n",
            "22 26 30 34 4 \n",
            "12 20 28 36 44 \n",
            "52 60 68 6 18 \n",
            "30 42 54 66 78 \n",
            "90 102 8 24 40 \n",
            "56 72 88 104 120 \n",
            "136 10 30 50 70 \n",
            "90 110 130 150 170 \n",
            "12 36 60 84 108 \n",
            "132 156 180 204 14 \n",
            "42 70 98 126 154 \n",
            "182 210 238 16 48 \n",
            "80 112 144 176 208 \n",
            "240 272 18 54 90 \n",
            "126 162 198 234 270 \n",
            "306 "
          ],
          "name": "stdout"
        }
      ]
    },
    {
      "cell_type": "code",
      "metadata": {
        "id": "5AYAtw2lI6WQ",
        "colab_type": "code",
        "outputId": "144215f6-c865-4ae5-a0be-9f72f09ba0c1",
        "colab": {
          "base_uri": "https://localhost:8080/",
          "height": 35
        }
      },
      "source": [
        "# Uso del zip\n",
        "pares=[2,4,6,8,10,12,14,16,18]\n",
        "impares=[1,3,5,7,9,11,13,15,17]\n",
        "for par, impar in zip(pares,impares):\n",
        "  print(par*impar, end=' ')"
      ],
      "execution_count": 0,
      "outputs": [
        {
          "output_type": "stream",
          "text": [
            "2 12 30 56 90 132 182 240 306 "
          ],
          "name": "stdout"
        }
      ]
    },
    {
      "cell_type": "code",
      "metadata": {
        "id": "9npyIElJk55V",
        "colab_type": "code",
        "outputId": "6a2652b2-6026-4e6d-d4b1-4f8957fd0cd3",
        "colab": {
          "base_uri": "https://localhost:8080/",
          "height": 697
        }
      },
      "source": [
        "mylist=[]\n",
        "for i in range(1,41):\n",
        "  mylist.append(i**2)\n",
        "\n",
        "mylist"
      ],
      "execution_count": 0,
      "outputs": [
        {
          "output_type": "execute_result",
          "data": {
            "text/plain": [
              "[1,\n",
              " 4,\n",
              " 9,\n",
              " 16,\n",
              " 25,\n",
              " 36,\n",
              " 49,\n",
              " 64,\n",
              " 81,\n",
              " 100,\n",
              " 121,\n",
              " 144,\n",
              " 169,\n",
              " 196,\n",
              " 225,\n",
              " 256,\n",
              " 289,\n",
              " 324,\n",
              " 361,\n",
              " 400,\n",
              " 441,\n",
              " 484,\n",
              " 529,\n",
              " 576,\n",
              " 625,\n",
              " 676,\n",
              " 729,\n",
              " 784,\n",
              " 841,\n",
              " 900,\n",
              " 961,\n",
              " 1024,\n",
              " 1089,\n",
              " 1156,\n",
              " 1225,\n",
              " 1296,\n",
              " 1369,\n",
              " 1444,\n",
              " 1521,\n",
              " 1600]"
            ]
          },
          "metadata": {
            "tags": []
          },
          "execution_count": 31
        }
      ]
    },
    {
      "cell_type": "markdown",
      "metadata": {
        "id": "OTBMTuD8Kfha",
        "colab_type": "text"
      },
      "source": [
        "\n",
        "\n",
        "Los ciclos for suelen ser  útiles para 'llenar' secuencias en python"
      ]
    },
    {
      "cell_type": "code",
      "metadata": {
        "id": "L-kLgsW3oItC",
        "colab_type": "code",
        "colab": {}
      },
      "source": [
        "# Agregar a una lista los múltiplos de 7 menores a 600\n",
        "\n",
        "num=7\n",
        "limsup=600\n",
        "\n",
        "mylist=[]\n",
        "for i in range(1,limsup+1):\n",
        "  if i%num==0:\n",
        "    mylist.append(i)\n",
        "    \n",
        "mylist    \n",
        "\n"
      ],
      "execution_count": 0,
      "outputs": []
    },
    {
      "cell_type": "code",
      "metadata": {
        "id": "Mj4NCmXMoq9C",
        "colab_type": "code",
        "colab": {}
      },
      "source": [
        "mylist=[]\n",
        "lim2=limsup//num + 1\n",
        "for i in range(1,lim2+1):\n",
        "  if 7*i<600:\n",
        "    mylist.append(7*i)\n",
        "\n",
        "mylist"
      ],
      "execution_count": 0,
      "outputs": []
    },
    {
      "cell_type": "code",
      "metadata": {
        "id": "za_nIhQaJ7-T",
        "colab_type": "code",
        "outputId": "821e75dc-e26d-4551-d410-79651e19445f",
        "colab": {
          "base_uri": "https://localhost:8080/",
          "height": 54
        }
      },
      "source": [
        "# Llenar una lista con los cuadrados de los primeros 40 naturales\n",
        "\n",
        "mylist=[0]*40 # lista con 40 ceros\n",
        "\n",
        "for i in range(40): # Llenar la lista posición a posición\n",
        "  mylist[i]= pow(i+1,2)  \n",
        "\n",
        "print(mylist)"
      ],
      "execution_count": 0,
      "outputs": [
        {
          "output_type": "stream",
          "text": [
            "[1, 4, 9, 16, 25, 36, 49, 64, 81, 100, 121, 144, 169, 196, 225, 256, 289, 324, 361, 400, 441, 484, 529, 576, 625, 676, 729, 784, 841, 900, 961, 1024, 1089, 1156, 1225, 1296, 1369, 1444, 1521, 1600]\n"
          ],
          "name": "stdout"
        }
      ]
    },
    {
      "cell_type": "code",
      "metadata": {
        "id": "JBupQB-RMzMS",
        "colab_type": "code",
        "outputId": "447181fd-59ce-4113-a3a0-a25d6ca0a772",
        "colab": {
          "base_uri": "https://localhost:8080/",
          "height": 54
        }
      },
      "source": [
        "# Otra forma\n",
        "mylist=list() # crear una lista vacía\n",
        "for i in range(1,41): # Llenar la lista posición a posición\n",
        "  mylist.append(pow(i,2))  # usando el método append\n",
        "\n",
        "print(mylist)"
      ],
      "execution_count": 0,
      "outputs": [
        {
          "output_type": "stream",
          "text": [
            "[1, 4, 9, 16, 25, 36, 49, 64, 81, 100, 121, 144, 169, 196, 225, 256, 289, 324, 361, 400, 441, 484, 529, 576, 625, 676, 729, 784, 841, 900, 961, 1024, 1089, 1156, 1225, 1296, 1369, 1444, 1521, 1600]\n"
          ],
          "name": "stdout"
        }
      ]
    },
    {
      "cell_type": "code",
      "metadata": {
        "id": "pAhxyYsELFlL",
        "colab_type": "code",
        "colab": {}
      },
      "source": [
        "\n",
        "# Llenar un diccionario con los primeros 20 impares como llave y como valor su cuadrado\n",
        "\n",
        "my_dict=dict() # Crear diccionario vacio\n",
        "\n",
        "for key, value in zip(range(1,41), mylist):\n",
        "  if key%2: #llenar impares ¿por qué funciona?\n",
        "    my_dict[key]=value\n",
        "    print('{}:{}'.format(key,my_dict[key]))"
      ],
      "execution_count": 0,
      "outputs": []
    },
    {
      "cell_type": "markdown",
      "metadata": {
        "id": "ifUbikNFRRI4",
        "colab_type": "text"
      },
      "source": [
        "### list comprehension\n",
        "\n",
        "Esta sintaxis permite llenar con mayor facilidad secuencias "
      ]
    },
    {
      "cell_type": "code",
      "metadata": {
        "id": "2BILnV-DRgPq",
        "colab_type": "code",
        "colab": {}
      },
      "source": [
        "# Llenar una lista con los cuadrados de los primeros 40 naturales\n",
        "\n",
        "mylist= [i for i in range(1,41)]\n",
        "\n",
        "print(mylist)"
      ],
      "execution_count": 0,
      "outputs": []
    },
    {
      "cell_type": "code",
      "metadata": {
        "id": "BOgtJ6wNd9Jl",
        "colab_type": "code",
        "colab": {}
      },
      "source": [
        "#Poner en una lista los múltiplos de  7 menores a 600\n",
        "\n",
        "[ i for i in range(600) if i%7==0]\n"
      ],
      "execution_count": 0,
      "outputs": []
    },
    {
      "cell_type": "code",
      "metadata": {
        "id": "GbKrqG5Te6s_",
        "colab_type": "code",
        "colab": {}
      },
      "source": [
        ""
      ],
      "execution_count": 0,
      "outputs": []
    },
    {
      "cell_type": "code",
      "metadata": {
        "id": "MaVt_YfuRl7w",
        "colab_type": "code",
        "outputId": "7ce7d963-c84f-4cb3-b70f-1135bb36a960",
        "colab": {
          "base_uri": "https://localhost:8080/",
          "height": 353
        }
      },
      "source": [
        "# Llenar un diccionario con los primeros 20 impares como llave y como valor su cuadrado\n",
        "\n",
        "my_dict={key:pow(key,2) for key in range(1,40) if key%2!=0}\n",
        "\n",
        "for key,value in my_dict.items():\n",
        "  print('{}:{}'.format(key,value))\n"
      ],
      "execution_count": 0,
      "outputs": [
        {
          "output_type": "stream",
          "text": [
            "1:1\n",
            "3:9\n",
            "5:25\n",
            "7:49\n",
            "9:81\n",
            "11:121\n",
            "13:169\n",
            "15:225\n",
            "17:289\n",
            "19:361\n",
            "21:441\n",
            "23:529\n",
            "25:625\n",
            "27:729\n",
            "29:841\n",
            "31:961\n",
            "33:1089\n",
            "35:1225\n",
            "37:1369\n",
            "39:1521\n"
          ],
          "name": "stdout"
        }
      ]
    },
    {
      "cell_type": "code",
      "metadata": {
        "id": "2TwszUK2fqVu",
        "colab_type": "code",
        "outputId": "c83accce-c674-430a-ca4a-2a3e66c3d471",
        "colab": {
          "base_uri": "https://localhost:8080/",
          "height": 319
        }
      },
      "source": [
        "# Crear una lista con todas las posibles combinaciones a+b+c con a,b y c en el rango de 1 al 5, tal\n",
        "# a + b + c sea menor que 12\n",
        "\n",
        "r=range(1,6)\n",
        "[[a,b,c] for a in r for b in r for c in r if a+c+b<12 if a%2==0 and b%2==0]"
      ],
      "execution_count": 0,
      "outputs": [
        {
          "output_type": "execute_result",
          "data": {
            "text/plain": [
              "[[2, 2, 1],\n",
              " [2, 2, 2],\n",
              " [2, 2, 3],\n",
              " [2, 2, 4],\n",
              " [2, 2, 5],\n",
              " [2, 4, 1],\n",
              " [2, 4, 2],\n",
              " [2, 4, 3],\n",
              " [2, 4, 4],\n",
              " [2, 4, 5],\n",
              " [4, 2, 1],\n",
              " [4, 2, 2],\n",
              " [4, 2, 3],\n",
              " [4, 2, 4],\n",
              " [4, 2, 5],\n",
              " [4, 4, 1],\n",
              " [4, 4, 2],\n",
              " [4, 4, 3]]"
            ]
          },
          "metadata": {
            "tags": []
          },
          "execution_count": 9
        }
      ]
    },
    {
      "cell_type": "code",
      "metadata": {
        "id": "6qiiXF-Fi_Ie",
        "colab_type": "code",
        "colab": {}
      },
      "source": [
        "articulos=['abaco','tijeras','pegamento','borrador','tajador','lápiz','pluma','pegamento']\n",
        "cantidades=[i for i in range(8)]\n",
        "precios=[2*i+1 for i in range(3,11)]"
      ],
      "execution_count": 0,
      "outputs": []
    },
    {
      "cell_type": "code",
      "metadata": {
        "id": "BgYVSXL7jwM9",
        "colab_type": "code",
        "outputId": "b34005a5-5e1d-4665-8303-5b75be0ed70d",
        "colab": {
          "base_uri": "https://localhost:8080/",
          "height": 134
        }
      },
      "source": [
        "# Generar un diccionario\n",
        "#articulo:[cantidad, precio, valor]\n",
        "\n",
        "mydict={articulo:[cantidad,precio,cantidad*precio] for articulo,cantidad,precio in zip(articulos,cantidades,precios)}\n",
        "\n",
        "for key, values in mydict.items():\n",
        "  print('{}:{}'.format(key,values))"
      ],
      "execution_count": 0,
      "outputs": [
        {
          "output_type": "stream",
          "text": [
            "abaco:[0, 7, 0]\n",
            "tijeras:[1, 9, 9]\n",
            "pegamento:[7, 21, 147]\n",
            "borrador:[3, 13, 39]\n",
            "tajador:[4, 15, 60]\n",
            "lápiz:[5, 17, 85]\n",
            "pluma:[6, 19, 114]\n"
          ],
          "name": "stdout"
        }
      ]
    },
    {
      "cell_type": "markdown",
      "metadata": {
        "id": "29Lk4IbHS2zU",
        "colab_type": "text"
      },
      "source": [
        "*List comprehesión* permite crear tuplas "
      ]
    },
    {
      "cell_type": "code",
      "metadata": {
        "id": "ikbNn4uZTWBe",
        "colab_type": "code",
        "outputId": "9312c261-8971-427c-e083-9d37a07491e5",
        "colab": {
          "base_uri": "https://localhost:8080/",
          "height": 34
        }
      },
      "source": [
        "n=4\n",
        "my_tuple=tuple(x*y for x, y in zip(range(5,30), range(20,120,4)))\n",
        "print(my_tuple)"
      ],
      "execution_count": 0,
      "outputs": [
        {
          "output_type": "stream",
          "text": [
            "(100, 144, 196, 256, 324, 400, 484, 576, 676, 784, 900, 1024, 1156, 1296, 1444, 1600, 1764, 1936, 2116, 2304, 2500, 2704, 2916, 3136, 3364)\n"
          ],
          "name": "stdout"
        }
      ]
    },
    {
      "cell_type": "markdown",
      "metadata": {
        "id": "Pn8Cf0ETVLu_",
        "colab_type": "text"
      },
      "source": [
        "## Ciclo *while*"
      ]
    },
    {
      "cell_type": "markdown",
      "metadata": {
        "id": "bCxvy6oIXn6y",
        "colab_type": "text"
      },
      "source": [
        "Iterar significa realizar una acción varias veces. Cada vez que se repite se denomina iteración. Debe indicarse un criterio de paro"
      ]
    },
    {
      "cell_type": "code",
      "metadata": {
        "id": "h91FpR9zT-II",
        "colab_type": "code",
        "outputId": "add3629b-8f51-4930-d235-c11ab6a53a0f",
        "colab": {
          "base_uri": "https://localhost:8080/",
          "height": 204
        }
      },
      "source": [
        "c = 0\n",
        "while c <= 10:\n",
        "    c+=1\n",
        "    print(\"c vale: \", c)"
      ],
      "execution_count": 0,
      "outputs": [
        {
          "output_type": "stream",
          "text": [
            "c vale:  1\n",
            "c vale:  2\n",
            "c vale:  3\n",
            "c vale:  4\n",
            "c vale:  5\n",
            "c vale:  6\n",
            "c vale:  7\n",
            "c vale:  8\n",
            "c vale:  9\n",
            "c vale:  10\n",
            "c vale:  11\n"
          ],
          "name": "stdout"
        }
      ]
    },
    {
      "cell_type": "code",
      "metadata": {
        "id": "ZPzX2VUJX1He",
        "colab_type": "code",
        "colab": {}
      },
      "source": [
        "# Puede usarse la sentencia else junto con el ciclo while. Esto funciona para indicar que la condición ya no se cumple\n",
        "\n",
        "c = 0\n",
        "while c <= 5:\n",
        "    c+=1\n",
        "    print(\"c vale\", c)\n",
        "else:\n",
        "    print(\"Se ha completado toda la iteración y c vale\", c)"
      ],
      "execution_count": 0,
      "outputs": []
    },
    {
      "cell_type": "code",
      "metadata": {
        "id": "bEh2Z5OnYQtM",
        "colab_type": "code",
        "outputId": "4ecf7271-e013-47f8-85f8-938673017467",
        "colab": {
          "base_uri": "https://localhost:8080/",
          "height": 101
        }
      },
      "source": [
        "# La instrucción break sirve para \"romper\" la ejecución del While en cualquier momento. No se ejecutará el Else, ya que éste sólo se llama al finalizar la iteración\n",
        "\n",
        "c = 5\n",
        "while c <= 8:\n",
        "    c+=1\n",
        "    if (c==4):\n",
        "        print(\"Rompemos el bucle cuando c vale\", c)\n",
        "        break\n",
        "    print(\"c vale\",c)\n",
        "else:\n",
        "    print(\"Se ha completado toda la iteración y c vale\", c)"
      ],
      "execution_count": 0,
      "outputs": [
        {
          "output_type": "stream",
          "text": [
            "c vale 6\n",
            "c vale 7\n",
            "c vale 8\n",
            "c vale 9\n",
            "Se ha completado toda la iteración y c vale 9\n"
          ],
          "name": "stdout"
        }
      ]
    },
    {
      "cell_type": "code",
      "metadata": {
        "id": "eGBafJEyYhLQ",
        "colab_type": "code",
        "outputId": "ee750d75-3e8b-438e-bac6-78efb8525be8",
        "colab": {
          "base_uri": "https://localhost:8080/",
          "height": 134
        }
      },
      "source": [
        "# La instruccion continue sirve para \"saltarse\" la iteración actual sin romper el bucle.\n",
        "\n",
        "c = 0\n",
        "\n",
        "while c <= 5:\n",
        "    c+=1\n",
        "    if c==3 or c==4:\n",
        "        print(\"Continuamos con la siguiente iteración\", c)\n",
        "        continue\n",
        "    print(\"c vale\",c)\n",
        "else:\n",
        "    print(\"Se ha completado toda la iteración y c vale\", c)"
      ],
      "execution_count": 0,
      "outputs": [
        {
          "output_type": "stream",
          "text": [
            "c vale 1\n",
            "c vale 2\n",
            "Continuamos con la siguiente iteración 3\n",
            "Continuamos con la siguiente iteración 4\n",
            "c vale 5\n",
            "c vale 6\n",
            "Se ha completado toda la iteración y c vale 6\n"
          ],
          "name": "stdout"
        }
      ]
    }
  ]
}