{
  "nbformat": 4,
  "nbformat_minor": 0,
  "metadata": {
    "colab": {
      "name": "05.  Módulos y paquetes",
      "provenance": [],
      "include_colab_link": true
    },
    "kernelspec": {
      "name": "python3",
      "display_name": "Python 3"
    }
  },
  "cells": [
    {
      "cell_type": "markdown",
      "metadata": {
        "id": "view-in-github",
        "colab_type": "text"
      },
      "source": [
        "<a href=\"https://colab.research.google.com/github/zyntonyson/Curso-introductorio-Python/blob/master/05_M%C3%B3dulos_y_paquetes.ipynb\" target=\"_parent\"><img src=\"https://colab.research.google.com/assets/colab-badge.svg\" alt=\"Open In Colab\"/></a>"
      ]
    },
    {
      "cell_type": "markdown",
      "metadata": {
        "id": "CIqzdSIzQxSG",
        "colab_type": "text"
      },
      "source": [
        "# Módulos y paquetes\n",
        "\n",
        "\n",
        "Los módulos son ficheros que contienen definiciones que se pueden importar en otros scripts para reutilizar sus funcionalidades."
      ]
    },
    {
      "cell_type": "code",
      "metadata": {
        "id": "vxQmJPGNyrP9",
        "colab_type": "code",
        "colab": {}
      },
      "source": [
        "# Cargar un paquete completo\n",
        "import math\n",
        "\n",
        "#acceder a las funciones de math\n",
        "\n",
        "# Atributo o variable\n",
        "print('Importar pi de math: Pi ={}'.format(math.pi))\n",
        "\n",
        "\n",
        "# Función\n",
        "\n",
        "math.sin(math.pi)\n",
        "\n",
        "# Es posible asignar un alias a un paquete al asignarse:\n",
        "#  import math as m\n",
        "\n",
        "# En se caso las funciones serian llamadas como\n",
        "\n",
        "#m.pi\n",
        "#m.sin()"
      ],
      "execution_count": 0,
      "outputs": []
    },
    {
      "cell_type": "code",
      "metadata": {
        "id": "whDRc-rqz6h8",
        "colab_type": "code",
        "outputId": "ea3770a9-6d91-4e76-c3e4-bd4cf5bfd81b",
        "colab": {
          "base_uri": "https://localhost:8080/",
          "height": 35
        }
      },
      "source": [
        "import math as m\n",
        "\n",
        "m.pi"
      ],
      "execution_count": 0,
      "outputs": [
        {
          "output_type": "execute_result",
          "data": {
            "text/plain": [
              "3.141592653589793"
            ]
          },
          "metadata": {
            "tags": []
          },
          "execution_count": 5
        }
      ]
    },
    {
      "cell_type": "code",
      "metadata": {
        "id": "FwTsRwkuz_UP",
        "colab_type": "code",
        "outputId": "dec4cf26-c02c-4ed7-85e9-65f8c7af51f8",
        "colab": {
          "base_uri": "https://localhost:8080/",
          "height": 35
        }
      },
      "source": [
        "# Importar una clase-objeto de un paquete\n",
        "\n",
        "import numpy as np\n",
        "\n",
        "np.zeros(10)"
      ],
      "execution_count": 0,
      "outputs": [
        {
          "output_type": "execute_result",
          "data": {
            "text/plain": [
              "array([0., 0., 0., 0., 0., 0., 0., 0., 0., 0.])"
            ]
          },
          "metadata": {
            "tags": []
          },
          "execution_count": 6
        }
      ]
    },
    {
      "cell_type": "code",
      "metadata": {
        "id": "2tsu8J-g00wr",
        "colab_type": "code",
        "outputId": "4201f800-66e6-425d-8595-3c8620cb7093",
        "colab": {
          "base_uri": "https://localhost:8080/",
          "height": 35
        }
      },
      "source": [
        "type(np.zeros)"
      ],
      "execution_count": 0,
      "outputs": [
        {
          "output_type": "execute_result",
          "data": {
            "text/plain": [
              "builtin_function_or_method"
            ]
          },
          "metadata": {
            "tags": []
          },
          "execution_count": 8
        }
      ]
    },
    {
      "cell_type": "code",
      "metadata": {
        "id": "1eMJ38T90T3Y",
        "colab_type": "code",
        "outputId": "40599691-380d-485c-f3f5-f4c55e195fb2",
        "colab": {
          "base_uri": "https://localhost:8080/",
          "height": 35
        }
      },
      "source": [
        "# Importar función específica de un paquete\n",
        "\n",
        "from datetime import datetime\n",
        "from math import pi\n",
        "\n",
        "print(round(pi,2))\n"
      ],
      "execution_count": 0,
      "outputs": [
        {
          "output_type": "stream",
          "text": [
            "3.14\n"
          ],
          "name": "stdout"
        }
      ]
    },
    {
      "cell_type": "markdown",
      "metadata": {
        "id": "t1TjMRIURGTZ",
        "colab_type": "text"
      },
      "source": [
        "## Módulo collections\n",
        "\n",
        "El módulo integrado de colecciones nos proveé otros tipos o mejoras de las colecciones clásicas."
      ]
    },
    {
      "cell_type": "code",
      "metadata": {
        "id": "f7BP0AAANlIo",
        "colab_type": "code",
        "outputId": "86c4d2ad-00f1-46e5-a2f3-2b5c049955c8",
        "colab": {
          "base_uri": "https://localhost:8080/",
          "height": 89
        }
      },
      "source": [
        "# Contadores (tablas de frecuencia)\n",
        "\n",
        "from collections import Counter\n",
        "#from collections import Counter as contador  (es posible asignar un alias)\n",
        "\n",
        "l = [1,2,3,4,1,2,3,1,2,1]\n",
        "print(Counter(l))\n",
        "#contador(l)\n",
        "\n",
        "## Cantidad de caractéres\n",
        "\n",
        "print(Counter('estrambotico'))\n",
        "\n",
        "animales = \"gato perro canario perro canario perro\"\n",
        "c = Counter(animales.split())\n",
        "print(c)"
      ],
      "execution_count": 0,
      "outputs": [
        {
          "output_type": "stream",
          "text": [
            "Counter({1: 4, 2: 3, 3: 2, 4: 1})\n",
            "Counter({'t': 2, 'o': 2, 'e': 1, 's': 1, 'r': 1, 'a': 1, 'm': 1, 'b': 1, 'i': 1, 'c': 1})\n",
            "Counter({'perro': 3, 'canario': 2, 'gato': 1})\n"
          ],
          "name": "stdout"
        }
      ]
    },
    {
      "cell_type": "markdown",
      "metadata": {
        "id": "27yFdw5GScCf",
        "colab_type": "text"
      },
      "source": [
        "## Módulo datetime\n",
        "\n",
        "Este módulo contiene las clases time y datetime esenciales para manejar tiempo, horas y fechas.\n",
        "\n"
      ]
    },
    {
      "cell_type": "code",
      "metadata": {
        "id": "IfesrfZHSjaW",
        "colab_type": "code",
        "outputId": "5914f2b2-a839-4ac3-9d36-01b5fb6534b7",
        "colab": {
          "base_uri": "https://localhost:8080/",
          "height": 191
        }
      },
      "source": [
        "from datetime import datetime\n",
        "\n",
        "dt = datetime.now()    # Fecha y hora actual\n",
        "\n",
        "print(dt)\n",
        "print(dt.year)         # año\n",
        "print(dt.month)        # mes\n",
        "print(dt.day)          # día\n",
        "\n",
        "print(dt.hour)         # hora\n",
        "print(dt.minute)       # minutos\n",
        "print(dt.second)       # segundos\n",
        "print(dt.microsecond)  # microsegundos\n",
        "\n",
        "print(\"{}:{}:{}\".format(dt.hour, dt.minute, dt.second))\n",
        "print(\"{}/{}/{}\".format(dt.day, dt.month, dt.year))"
      ],
      "execution_count": 0,
      "outputs": [
        {
          "output_type": "stream",
          "text": [
            "2019-08-23 23:39:42.867201\n",
            "2019\n",
            "8\n",
            "23\n",
            "23\n",
            "39\n",
            "42\n",
            "867201\n",
            "23:39:42\n",
            "23/8/2019\n"
          ],
          "name": "stdout"
        }
      ]
    },
    {
      "cell_type": "code",
      "metadata": {
        "id": "oAI97SX2Shx5",
        "colab_type": "code",
        "colab": {}
      },
      "source": [
        ""
      ],
      "execution_count": 0,
      "outputs": []
    },
    {
      "cell_type": "markdown",
      "metadata": {
        "id": "ESboxtmqS6j-",
        "colab_type": "text"
      },
      "source": [
        "## Módulo random\n",
        "\n",
        "Este módulo contiene funciones para generar números aleatorios\n"
      ]
    },
    {
      "cell_type": "code",
      "metadata": {
        "id": "BFMPRmy1TAMZ",
        "colab_type": "code",
        "outputId": "d4c261b3-3a61-4f29-b2cd-6a8d0f06b49a",
        "colab": {
          "base_uri": "https://localhost:8080/",
          "height": 121
        }
      },
      "source": [
        "# Generar números aleatorios\n",
        "\n",
        "import random\n",
        "\n",
        "# Flotante aleatorio >= 0 y < 1.0\n",
        "print(random.random())      \n",
        "\n",
        "# Flotante aleatorio >= 1 y <10.0       \n",
        "print(random.uniform(1,10))\n",
        "\n",
        "# Entero aleatorio de 0 a 9, 10 excluído\n",
        "print(random.randrange(10))\n",
        "\n",
        "# Entero aleatorio de 0 a 100\n",
        "print(random.randrange(0,101))\n",
        "\n",
        "# Entero aleatorio de 0 a 100 cada 2 números, múltiplos de 2\n",
        "print(random.randrange(0,101,2))\n",
        "\n",
        "# Entero aleatorio de 0 a 100 cada 5 números, múltiplos de 5\n",
        "print(random.randrange(0,101,5))"
      ],
      "execution_count": 0,
      "outputs": [
        {
          "output_type": "stream",
          "text": [
            "0.9479769225528845\n",
            "7.241857664915344\n",
            "4\n",
            "42\n",
            "34\n",
            "60\n"
          ],
          "name": "stdout"
        }
      ]
    },
    {
      "cell_type": "code",
      "metadata": {
        "id": "wwE2V8iLTMG8",
        "colab_type": "code",
        "outputId": "d78a1bf8-795b-4892-b758-207435f928cd",
        "colab": {
          "base_uri": "https://localhost:8080/",
          "height": 69
        }
      },
      "source": [
        "# Muestreo\n",
        "\n",
        "# Letra aleatoria\n",
        "print(random.choice('Hola mundo'.split()))\n",
        "\n",
        "# Elemento aleatorio\n",
        "print(random.choice([1,2,3,4,5]))\n",
        "\n",
        "# Dos elementos aleatorios\n",
        "print(random.sample([1,2,3,4,5], 2))"
      ],
      "execution_count": 0,
      "outputs": [
        {
          "output_type": "stream",
          "text": [
            "mundo\n",
            "2\n",
            "[3, 1]\n"
          ],
          "name": "stdout"
        }
      ]
    },
    {
      "cell_type": "code",
      "metadata": {
        "id": "wXor8s8ATWF9",
        "colab_type": "code",
        "outputId": "ad94bad0-cda2-4dfb-c93e-914ced0300f8",
        "colab": {
          "base_uri": "https://localhost:8080/",
          "height": 35
        }
      },
      "source": [
        "# Mezclas\n",
        "\n",
        "# Barajar una lista, queda guardado\n",
        "lista = [1,2,3,4,5]\n",
        "random.shuffle(lista)\n",
        "print(lista)"
      ],
      "execution_count": 0,
      "outputs": [
        {
          "output_type": "stream",
          "text": [
            "[5, 1, 4, 3, 2]\n"
          ],
          "name": "stdout"
        }
      ]
    }
  ]
}